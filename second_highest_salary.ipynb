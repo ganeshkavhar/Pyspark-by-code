from pyspark.sql import SparkSession

# Initialize Spark session
spark = SparkSession.builder.appName("SecondHighestSalary").getOrCreate()

# Sample data
data = [("John", 5000), ("Jane", 6000), ("Doe", 5000), ("Michael", 7000), ("Sara", 8000), ("Tom", 6000)]

# Create DataFrame
df = spark.createDataFrame(data, ["name", "salary"])

# Step 1: Show original DataFrame
print("Original DataFrame:")
df.show()

# Step 2: Create a temporary view
df.createOrReplaceTempView("employees")

# Step 3: Use SQL to find the second highest salary
result_df = spark.sql("""
    SELECT DISTINCT salary
    FROM employees
    ORDER BY salary DESC
    LIMIT 2
""")

# Extract the second highest salary
second_highest_salary = result_df.collect()[1][0]

# Display the second highest salary
print(f"The second highest salary is: {second_highest_salary}")
