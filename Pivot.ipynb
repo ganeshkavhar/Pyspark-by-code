from pyspark.sql import SparkSession

# Initialize Spark session
spark = SparkSession.builder.appName("Pivot Example").getOrCreate()

# Sample data
data = [
    ("2023-01", "ProductA", 100),
    ("2023-01", "ProductB", 200),
    ("2023-01", "ProductC", 150),
    ("2023-02", "ProductA", 300),
    ("2023-02", "ProductB", 400),
    ("2023-02", "ProductC", 250),
    ("2023-03", "ProductA", 500),
    ("2023-03", "ProductB", 600),
    ("2023-03", "ProductC", 350)
]

# Create DataFrame
df = spark.createDataFrame(data, ["month", "product", "sales"])

# Step 1: Show original DataFrame
print("Original DataFrame:")
df.show()

# Step 2: Pivot the data
pivot_df = df.groupBy("month").pivot("product").sum("sales")
print("Pivoted DataFrame:")
pivot_df.show()
