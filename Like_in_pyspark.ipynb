from pyspark.sql import SparkSession
from pyspark.sql.functions import col

# Initialize Spark session
spark = SparkSession.builder.appName("LikeOperatorExample").getOrCreate()

# Sample data: (id, name)
data = [
    (1, "Alice"),
    (2, "Bob"),
    (3, "Charlie"),
    (4, "David"),
    (5, "Edward")
]

# Define schema
columns = ["id", "name"]

# Create DataFrame
df = spark.createDataFrame(data, schema=columns)

# Show the initial DataFrame
print("Initial DataFrame:")
df.show()

# Filter rows where the name starts with 'A'
df_like_A = df.filter(col("name").like("A%"))
print("Names starting with 'A':")
df_like_A.show()

# Filter rows where the name ends with 'd'
df_like_d = df.filter(col("name").like("%d"))
print("Names ending with 'd':")
df_like_d.show()

# Filter rows where the name contains 'ar'
df_like_ar = df.filter(col("name").like("%ar%"))
print("Names containing 'ar':")
df_like_ar.show()

# Filter rows where the name is exactly 4 characters long
df_like_4chars = df.filter(col("name").like("____"))
print("Names with exactly 4 characters:")
df_like_4chars.show()
