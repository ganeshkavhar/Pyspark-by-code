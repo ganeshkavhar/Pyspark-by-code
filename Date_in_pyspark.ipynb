from pyspark.sql import SparkSession
from pyspark.sql.functions import col, to_date, date_format, current_date, current_timestamp
from pyspark.sql.functions import year, month, dayofmonth, datediff, add_months, date_add

# Initialize Spark session
spark = SparkSession.builder.appName("DateExample").getOrCreate()

# Sample data with date strings
data = [
    ("1", "2024-01-01"),
    ("2", "2023-06-15"),
    ("3", "2022-12-25")
]

# Define schema
columns = ["id", "date_string"]

# Create DataFrame
df = spark.createDataFrame(data, schema=columns)

# Show the initial DataFrame
print("Initial DataFrame:")
df.show()

# Convert date_string to date type
df = df.withColumn("date", to_date(col("date_string"), "yyyy-MM-dd"))
print("DataFrame with date column:")
df.show()

# Extract year, month, and day from the date column
df = df.withColumn("year", year(col("date"))) \
       .withColumn("month", month(col("date"))) \
       .withColumn("day", dayofmonth(col("date")))
print("DataFrame with extracted date components:")
df.show()

# Calculate the difference between dates and the current date
df = df.withColumn("days_until_now", datediff(current_date(), col("date")))

# Add months to the date column
df = df.withColumn("date_plus_3_months", add_months(col("date"), 3))

# Add days to the date column
df = df.withColumn("date_plus_10_days", date_add(col("date"), 10
