from pyspark.sql import SparkSession
from pyspark.sql.functions import explode

# Initialize Spark session
spark = SparkSession.builder.appName("SeparateSubjectsExample").getOrCreate()

# Sample data: (id, sname, subject)
data = [
    (1, "Alice", ["Math", "Science", "English"]),
    (2, "Bob", ["Math", "Science"]),
    (3, "Charlie", ["Math", "English"])
]

# Define schema
columns = ["id", "sname", "subject"]

# Create DataFrame
df = spark.createDataFrame(data, schema=columns)

# Show the initial DataFrame
df.show(truncate=False)

# Use explode to separate subjects into individual rows
df_exploded = df.withColumn("subject", explode("subject"))

# Show the resulting DataFrame
df_exploded.show(truncate=False)
